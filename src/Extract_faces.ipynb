{
 "cells": [
  {
   "cell_type": "markdown",
   "metadata": {},
   "source": [
    "# Import libraries"
   ]
  },
  {
   "cell_type": "code",
   "execution_count": 1,
   "metadata": {},
   "outputs": [],
   "source": [
    "import pandas as pd\n",
    "import numpy as np\n",
    "import cv2\n",
    "import glob\n",
    "import matplotlib.pyplot as plt\n",
    "import os\n",
    "from sklearn import preprocessing\n",
    "from sklearn.model_selection import train_test_split\n",
    "from sklearn.metrics import confusion_matrix\n",
    "import seaborn as sns\n",
    "from PIL import Image"
   ]
  },
  {
   "cell_type": "markdown",
   "metadata": {},
   "source": [
    "# Getting all the images path:"
   ]
  },
  {
   "cell_type": "code",
   "execution_count": 2,
   "metadata": {},
   "outputs": [],
   "source": [
    "def importPath(folder):\n",
    "    path = f\"../OUTPUT/images/{folder}/*.jpg\"\n",
    "    list_paths = glob.glob(path)\n",
    "    return list_paths"
   ]
  },
  {
   "cell_type": "code",
   "execution_count": 3,
   "metadata": {},
   "outputs": [],
   "source": [
    "folders = ['0-2', '4-6', '8-12', '15-20', '21-35', '36-45', '46-59', '60-100']\n",
    "\n",
    "faceFiles = []\n",
    "    \n",
    "for files in folders:\n",
    "    ff = importPath(files)\n",
    "    faceFiles.append(ff)"
   ]
  },
  {
   "cell_type": "markdown",
   "metadata": {},
   "source": [
    "## Create a dictionary with label / images path:"
   ]
  },
  {
   "cell_type": "code",
   "execution_count": 5,
   "metadata": {},
   "outputs": [],
   "source": [
    "pics = dict()\n",
    "for ffiles in faceFiles:\n",
    "    for foto in ffiles:\n",
    "        label = foto.split(\"/\")[-2]\n",
    "        pic = foto\n",
    "        if label in pics:\n",
    "            pics[label].append(pic)\n",
    "        else:\n",
    "            pics[label] = [pic]"
   ]
  },
  {
   "cell_type": "markdown",
   "metadata": {},
   "source": [
    "## Create a dataframe with the information label /images path:"
   ]
  },
  {
   "cell_type": "code",
   "execution_count": 7,
   "metadata": {},
   "outputs": [
    {
     "data": {
      "text/html": [
       "<div>\n",
       "<style scoped>\n",
       "    .dataframe tbody tr th:only-of-type {\n",
       "        vertical-align: middle;\n",
       "    }\n",
       "\n",
       "    .dataframe tbody tr th {\n",
       "        vertical-align: top;\n",
       "    }\n",
       "\n",
       "    .dataframe thead th {\n",
       "        text-align: right;\n",
       "    }\n",
       "</style>\n",
       "<table border=\"1\" class=\"dataframe\">\n",
       "  <thead>\n",
       "    <tr style=\"text-align: right;\">\n",
       "      <th></th>\n",
       "      <th>label</th>\n",
       "      <th>image_path</th>\n",
       "    </tr>\n",
       "  </thead>\n",
       "  <tbody>\n",
       "    <tr>\n",
       "      <th>0</th>\n",
       "      <td>0-2</td>\n",
       "      <td>../OUTPUT/images/0-2/image_669.jpg</td>\n",
       "    </tr>\n",
       "    <tr>\n",
       "      <th>1</th>\n",
       "      <td>0-2</td>\n",
       "      <td>../OUTPUT/images/0-2/image_1570.jpg</td>\n",
       "    </tr>\n",
       "    <tr>\n",
       "      <th>2</th>\n",
       "      <td>0-2</td>\n",
       "      <td>../OUTPUT/images/0-2/image_346.jpg</td>\n",
       "    </tr>\n",
       "    <tr>\n",
       "      <th>3</th>\n",
       "      <td>0-2</td>\n",
       "      <td>../OUTPUT/images/0-2/image_441.jpg</td>\n",
       "    </tr>\n",
       "    <tr>\n",
       "      <th>4</th>\n",
       "      <td>0-2</td>\n",
       "      <td>../OUTPUT/images/0-2/image_1055.jpg</td>\n",
       "    </tr>\n",
       "  </tbody>\n",
       "</table>\n",
       "</div>"
      ],
      "text/plain": [
       "  label                           image_path\n",
       "0   0-2   ../OUTPUT/images/0-2/image_669.jpg\n",
       "1   0-2  ../OUTPUT/images/0-2/image_1570.jpg\n",
       "2   0-2   ../OUTPUT/images/0-2/image_346.jpg\n",
       "3   0-2   ../OUTPUT/images/0-2/image_441.jpg\n",
       "4   0-2  ../OUTPUT/images/0-2/image_1055.jpg"
      ]
     },
     "metadata": {},
     "output_type": "display_data"
    }
   ],
   "source": [
    "im = []\n",
    "\n",
    "for k,v in pics.items():\n",
    "    for a in v:\n",
    "        im.append([k,a])\n",
    "faces_df =  pd.DataFrame(im, columns=[\"label\",\"image_path\"])\n",
    "\n",
    "display(faces_df.head())"
   ]
  },
  {
   "cell_type": "code",
   "execution_count": 8,
   "metadata": {},
   "outputs": [
    {
     "name": "stdout",
     "output_type": "stream",
     "text": [
      "(17462, 2)\n"
     ]
    },
    {
     "data": {
      "text/plain": [
       "21-35     5023\n",
       "0-2       2491\n",
       "36-45     2340\n",
       "4-6       2140\n",
       "8-12      2124\n",
       "15-20     1642\n",
       "60-100     872\n",
       "46-59      830\n",
       "Name: label, dtype: int64"
      ]
     },
     "execution_count": 8,
     "metadata": {},
     "output_type": "execute_result"
    }
   ],
   "source": [
    "print(faces_df.shape)\n",
    "faces_df.label.value_counts()"
   ]
  },
  {
   "cell_type": "markdown",
   "metadata": {},
   "source": [
    "# Extract face from image and convert them into arrays:"
   ]
  },
  {
   "cell_type": "markdown",
   "metadata": {},
   "source": [
    "Import haarcascade:"
   ]
  },
  {
   "cell_type": "code",
   "execution_count": 9,
   "metadata": {},
   "outputs": [],
   "source": [
    "face_cascade = cv2.CascadeClassifier('../INPUT/haarcascade_frontalface_default.xml')"
   ]
  },
  {
   "cell_type": "markdown",
   "metadata": {},
   "source": [
    "## Convert images into B&W:"
   ]
  },
  {
   "cell_type": "code",
   "execution_count": 10,
   "metadata": {},
   "outputs": [],
   "source": [
    "def BlackandWhite(image_path):\n",
    "    im_bw = cv2.imread(image_path)\n",
    "    im_bw = cv2.cvtColor(im_bw, cv2.COLOR_BGR2GRAY)\n",
    "    return im_bw"
   ]
  },
  {
   "cell_type": "code",
   "execution_count": 11,
   "metadata": {},
   "outputs": [],
   "source": [
    "dictionary={}\n",
    "count = 0\n",
    "for path in faces_df['image_path']:\n",
    "    dictionary[count] = BlackandWhite(path)\n",
    "    count+=1"
   ]
  },
  {
   "cell_type": "code",
   "execution_count": 13,
   "metadata": {},
   "outputs": [],
   "source": [
    "def Extractface(array):\n",
    "    try:\n",
    "        faces = face_cascade.detectMultiScale(array, 1.25, 6)\n",
    "        x,y,w,h = faces[0]\n",
    "        face = array[y:y+h,x:x+w]\n",
    "        face = cv2.resize(face,(48,48))\n",
    "        return face\n",
    "    except:\n",
    "        return \"No face was identified\""
   ]
  },
  {
   "cell_type": "code",
   "execution_count": 14,
   "metadata": {},
   "outputs": [],
   "source": [
    "diction={}\n",
    "for k,v in dictionary.items():\n",
    "    diction.setdefault('clean_image', []).append(Extractface(v))"
   ]
  },
  {
   "cell_type": "code",
   "execution_count": 16,
   "metadata": {},
   "outputs": [],
   "source": [
    "faces_df['arrays']= pd.DataFrame(diction)"
   ]
  },
  {
   "cell_type": "markdown",
   "metadata": {},
   "source": [
    "## Delete the images which the face was not recognized:"
   ]
  },
  {
   "cell_type": "code",
   "execution_count": 19,
   "metadata": {},
   "outputs": [
    {
     "name": "stderr",
     "output_type": "stream",
     "text": [
      "/home/carolina/.local/lib/python3.7/site-packages/pandas/core/ops/array_ops.py:57: FutureWarning: elementwise comparison failed; returning scalar instead, but in the future will perform elementwise comparison\n",
      "  result = libops.scalar_compare(x.ravel(), y, op)\n"
     ]
    }
   ],
   "source": [
    "faces_df.drop(faces_df[faces_df.arrays == \"No face was identified\"].index, inplace = True)"
   ]
  },
  {
   "cell_type": "code",
   "execution_count": 20,
   "metadata": {},
   "outputs": [
    {
     "name": "stdout",
     "output_type": "stream",
     "text": [
      "(13809, 3)\n"
     ]
    },
    {
     "data": {
      "text/html": [
       "<div>\n",
       "<style scoped>\n",
       "    .dataframe tbody tr th:only-of-type {\n",
       "        vertical-align: middle;\n",
       "    }\n",
       "\n",
       "    .dataframe tbody tr th {\n",
       "        vertical-align: top;\n",
       "    }\n",
       "\n",
       "    .dataframe thead th {\n",
       "        text-align: right;\n",
       "    }\n",
       "</style>\n",
       "<table border=\"1\" class=\"dataframe\">\n",
       "  <thead>\n",
       "    <tr style=\"text-align: right;\">\n",
       "      <th></th>\n",
       "      <th>label</th>\n",
       "      <th>image_path</th>\n",
       "      <th>arrays</th>\n",
       "    </tr>\n",
       "  </thead>\n",
       "  <tbody>\n",
       "    <tr>\n",
       "      <th>0</th>\n",
       "      <td>0-2</td>\n",
       "      <td>../OUTPUT/images/0-2/image_669.jpg</td>\n",
       "      <td>[[67, 82, 64, 48, 48, 50, 51, 50, 50, 62, 73, ...</td>\n",
       "    </tr>\n",
       "    <tr>\n",
       "      <th>1</th>\n",
       "      <td>0-2</td>\n",
       "      <td>../OUTPUT/images/0-2/image_1570.jpg</td>\n",
       "      <td>[[35, 33, 40, 42, 38, 58, 107, 141, 154, 135, ...</td>\n",
       "    </tr>\n",
       "    <tr>\n",
       "      <th>4</th>\n",
       "      <td>0-2</td>\n",
       "      <td>../OUTPUT/images/0-2/image_1055.jpg</td>\n",
       "      <td>[[21, 15, 17, 18, 17, 20, 17, 14, 16, 19, 23, ...</td>\n",
       "    </tr>\n",
       "    <tr>\n",
       "      <th>5</th>\n",
       "      <td>0-2</td>\n",
       "      <td>../OUTPUT/images/0-2/image_1135.jpg</td>\n",
       "      <td>[[26, 23, 27, 32, 64, 58, 71, 71, 81, 68, 93, ...</td>\n",
       "    </tr>\n",
       "    <tr>\n",
       "      <th>6</th>\n",
       "      <td>0-2</td>\n",
       "      <td>../OUTPUT/images/0-2/image_231.jpg</td>\n",
       "      <td>[[63, 65, 63, 57, 65, 64, 69, 66, 67, 69, 73, ...</td>\n",
       "    </tr>\n",
       "  </tbody>\n",
       "</table>\n",
       "</div>"
      ],
      "text/plain": [
       "  label                           image_path  \\\n",
       "0   0-2   ../OUTPUT/images/0-2/image_669.jpg   \n",
       "1   0-2  ../OUTPUT/images/0-2/image_1570.jpg   \n",
       "4   0-2  ../OUTPUT/images/0-2/image_1055.jpg   \n",
       "5   0-2  ../OUTPUT/images/0-2/image_1135.jpg   \n",
       "6   0-2   ../OUTPUT/images/0-2/image_231.jpg   \n",
       "\n",
       "                                              arrays  \n",
       "0  [[67, 82, 64, 48, 48, 50, 51, 50, 50, 62, 73, ...  \n",
       "1  [[35, 33, 40, 42, 38, 58, 107, 141, 154, 135, ...  \n",
       "4  [[21, 15, 17, 18, 17, 20, 17, 14, 16, 19, 23, ...  \n",
       "5  [[26, 23, 27, 32, 64, 58, 71, 71, 81, 68, 93, ...  \n",
       "6  [[63, 65, 63, 57, 65, 64, 69, 66, 67, 69, 73, ...  "
      ]
     },
     "execution_count": 20,
     "metadata": {},
     "output_type": "execute_result"
    }
   ],
   "source": [
    "print(faces_df.shape)\n",
    "faces_df.head()"
   ]
  },
  {
   "cell_type": "code",
   "execution_count": 22,
   "metadata": {},
   "outputs": [
    {
     "name": "stdout",
     "output_type": "stream",
     "text": [
      "Faces_detected:79%\n"
     ]
    }
   ],
   "source": [
    "Faces_detected = 13809*100//17462\n",
    "print(f\"Faces_detected:{Faces_detected}%\")"
   ]
  },
  {
   "cell_type": "markdown",
   "metadata": {},
   "source": [
    "# Save the faces_detected images:"
   ]
  },
  {
   "cell_type": "code",
   "execution_count": 23,
   "metadata": {},
   "outputs": [],
   "source": [
    "image_name = []\n",
    "\n",
    "for a in list(faces_df.image_path):\n",
    "    im_name = a.split(\"/\")[-1]\n",
    "    image_name.append(im_name)"
   ]
  },
  {
   "cell_type": "code",
   "execution_count": 24,
   "metadata": {},
   "outputs": [],
   "source": [
    "faces_df['image_name'] = image_name"
   ]
  },
  {
   "cell_type": "code",
   "execution_count": 31,
   "metadata": {},
   "outputs": [
    {
     "data": {
      "text/html": [
       "<div>\n",
       "<style scoped>\n",
       "    .dataframe tbody tr th:only-of-type {\n",
       "        vertical-align: middle;\n",
       "    }\n",
       "\n",
       "    .dataframe tbody tr th {\n",
       "        vertical-align: top;\n",
       "    }\n",
       "\n",
       "    .dataframe thead th {\n",
       "        text-align: right;\n",
       "    }\n",
       "</style>\n",
       "<table border=\"1\" class=\"dataframe\">\n",
       "  <thead>\n",
       "    <tr style=\"text-align: right;\">\n",
       "      <th></th>\n",
       "      <th>label</th>\n",
       "      <th>image_path</th>\n",
       "      <th>image_name</th>\n",
       "      <th>arrays</th>\n",
       "    </tr>\n",
       "  </thead>\n",
       "  <tbody>\n",
       "    <tr>\n",
       "      <th>0</th>\n",
       "      <td>0-2</td>\n",
       "      <td>../OUTPUT/faces_detected/0-2/image_669.jpg</td>\n",
       "      <td>image_669.jpg</td>\n",
       "      <td>[[67, 82, 64, 48, 48, 50, 51, 50, 50, 62, 73, ...</td>\n",
       "    </tr>\n",
       "    <tr>\n",
       "      <th>1</th>\n",
       "      <td>0-2</td>\n",
       "      <td>../OUTPUT/faces_detected/0-2/image_1570.jpg</td>\n",
       "      <td>image_1570.jpg</td>\n",
       "      <td>[[35, 33, 40, 42, 38, 58, 107, 141, 154, 135, ...</td>\n",
       "    </tr>\n",
       "    <tr>\n",
       "      <th>4</th>\n",
       "      <td>0-2</td>\n",
       "      <td>../OUTPUT/faces_detected/0-2/image_1055.jpg</td>\n",
       "      <td>image_1055.jpg</td>\n",
       "      <td>[[21, 15, 17, 18, 17, 20, 17, 14, 16, 19, 23, ...</td>\n",
       "    </tr>\n",
       "    <tr>\n",
       "      <th>5</th>\n",
       "      <td>0-2</td>\n",
       "      <td>../OUTPUT/faces_detected/0-2/image_1135.jpg</td>\n",
       "      <td>image_1135.jpg</td>\n",
       "      <td>[[26, 23, 27, 32, 64, 58, 71, 71, 81, 68, 93, ...</td>\n",
       "    </tr>\n",
       "    <tr>\n",
       "      <th>6</th>\n",
       "      <td>0-2</td>\n",
       "      <td>../OUTPUT/faces_detected/0-2/image_231.jpg</td>\n",
       "      <td>image_231.jpg</td>\n",
       "      <td>[[63, 65, 63, 57, 65, 64, 69, 66, 67, 69, 73, ...</td>\n",
       "    </tr>\n",
       "  </tbody>\n",
       "</table>\n",
       "</div>"
      ],
      "text/plain": [
       "  label                                   image_path      image_name  \\\n",
       "0   0-2   ../OUTPUT/faces_detected/0-2/image_669.jpg   image_669.jpg   \n",
       "1   0-2  ../OUTPUT/faces_detected/0-2/image_1570.jpg  image_1570.jpg   \n",
       "4   0-2  ../OUTPUT/faces_detected/0-2/image_1055.jpg  image_1055.jpg   \n",
       "5   0-2  ../OUTPUT/faces_detected/0-2/image_1135.jpg  image_1135.jpg   \n",
       "6   0-2   ../OUTPUT/faces_detected/0-2/image_231.jpg   image_231.jpg   \n",
       "\n",
       "                                              arrays  \n",
       "0  [[67, 82, 64, 48, 48, 50, 51, 50, 50, 62, 73, ...  \n",
       "1  [[35, 33, 40, 42, 38, 58, 107, 141, 154, 135, ...  \n",
       "4  [[21, 15, 17, 18, 17, 20, 17, 14, 16, 19, 23, ...  \n",
       "5  [[26, 23, 27, 32, 64, 58, 71, 71, 81, 68, 93, ...  \n",
       "6  [[63, 65, 63, 57, 65, 64, 69, 66, 67, 69, 73, ...  "
      ]
     },
     "execution_count": 31,
     "metadata": {},
     "output_type": "execute_result"
    }
   ],
   "source": [
    "faces_df.head()"
   ]
  },
  {
   "cell_type": "code",
   "execution_count": 27,
   "metadata": {},
   "outputs": [],
   "source": [
    "# Saving in a new folder(faces_detected):\n",
    "\n",
    "for index, row in faces_df.iterrows():\n",
    "    img = Image.fromarray(row['arrays'])\n",
    "    img.save(\"../OUTPUT/faces_detected/{}/{}\".format(row['label'],row['image_name']))   "
   ]
  },
  {
   "cell_type": "markdown",
   "metadata": {},
   "source": [
    "# Put all together into a final dataframe:"
   ]
  },
  {
   "cell_type": "code",
   "execution_count": 28,
   "metadata": {},
   "outputs": [],
   "source": [
    "#update image_path with the new folder:\n",
    "\n",
    "faces_df['image_path'] = faces_df['image_path'].str.replace('images', 'faces_detected', regex=True)"
   ]
  },
  {
   "cell_type": "code",
   "execution_count": 29,
   "metadata": {},
   "outputs": [],
   "source": [
    "#Organize columns:\n",
    "\n",
    "faces_df = faces_df[['label', 'image_path', 'image_name', 'arrays']]"
   ]
  },
  {
   "cell_type": "code",
   "execution_count": 30,
   "metadata": {},
   "outputs": [],
   "source": [
    "#Transform the labels into numerical\n",
    "\n",
    "df_label_faces = pd.get_dummies(faces_df['label'])"
   ]
  },
  {
   "cell_type": "code",
   "execution_count": 33,
   "metadata": {},
   "outputs": [],
   "source": [
    "# Organize labels:\n",
    "\n",
    "df_label_faces = df_label_faces[['0-2', '4-6', '8-12', '15-20', '21-35', '36-45', '46-59', '60-100']]"
   ]
  },
  {
   "cell_type": "code",
   "execution_count": 34,
   "metadata": {},
   "outputs": [],
   "source": [
    "#Create column GT:\n",
    "\n",
    "Face_list =[] \n",
    "  \n",
    "for index, rows in df_label_faces.iterrows(): \n",
    "    my_list =[rows['0-2'], rows['4-6'], rows['8-12'], rows['15-20'], rows['21-35'], rows['36-45'], rows['46-59'], rows['60-100']] \n",
    "    Face_list.append(my_list)"
   ]
  },
  {
   "cell_type": "code",
   "execution_count": 35,
   "metadata": {},
   "outputs": [],
   "source": [
    "df_label_faces['gt'] = Face_list"
   ]
  },
  {
   "cell_type": "code",
   "execution_count": 36,
   "metadata": {},
   "outputs": [
    {
     "name": "stdout",
     "output_type": "stream",
     "text": [
      "(13809, 9)\n"
     ]
    },
    {
     "data": {
      "text/html": [
       "<div>\n",
       "<style scoped>\n",
       "    .dataframe tbody tr th:only-of-type {\n",
       "        vertical-align: middle;\n",
       "    }\n",
       "\n",
       "    .dataframe tbody tr th {\n",
       "        vertical-align: top;\n",
       "    }\n",
       "\n",
       "    .dataframe thead th {\n",
       "        text-align: right;\n",
       "    }\n",
       "</style>\n",
       "<table border=\"1\" class=\"dataframe\">\n",
       "  <thead>\n",
       "    <tr style=\"text-align: right;\">\n",
       "      <th></th>\n",
       "      <th>0-2</th>\n",
       "      <th>4-6</th>\n",
       "      <th>8-12</th>\n",
       "      <th>15-20</th>\n",
       "      <th>21-35</th>\n",
       "      <th>36-45</th>\n",
       "      <th>46-59</th>\n",
       "      <th>60-100</th>\n",
       "      <th>gt</th>\n",
       "    </tr>\n",
       "  </thead>\n",
       "  <tbody>\n",
       "    <tr>\n",
       "      <th>0</th>\n",
       "      <td>1</td>\n",
       "      <td>0</td>\n",
       "      <td>0</td>\n",
       "      <td>0</td>\n",
       "      <td>0</td>\n",
       "      <td>0</td>\n",
       "      <td>0</td>\n",
       "      <td>0</td>\n",
       "      <td>[1, 0, 0, 0, 0, 0, 0, 0]</td>\n",
       "    </tr>\n",
       "    <tr>\n",
       "      <th>1</th>\n",
       "      <td>1</td>\n",
       "      <td>0</td>\n",
       "      <td>0</td>\n",
       "      <td>0</td>\n",
       "      <td>0</td>\n",
       "      <td>0</td>\n",
       "      <td>0</td>\n",
       "      <td>0</td>\n",
       "      <td>[1, 0, 0, 0, 0, 0, 0, 0]</td>\n",
       "    </tr>\n",
       "    <tr>\n",
       "      <th>4</th>\n",
       "      <td>1</td>\n",
       "      <td>0</td>\n",
       "      <td>0</td>\n",
       "      <td>0</td>\n",
       "      <td>0</td>\n",
       "      <td>0</td>\n",
       "      <td>0</td>\n",
       "      <td>0</td>\n",
       "      <td>[1, 0, 0, 0, 0, 0, 0, 0]</td>\n",
       "    </tr>\n",
       "    <tr>\n",
       "      <th>5</th>\n",
       "      <td>1</td>\n",
       "      <td>0</td>\n",
       "      <td>0</td>\n",
       "      <td>0</td>\n",
       "      <td>0</td>\n",
       "      <td>0</td>\n",
       "      <td>0</td>\n",
       "      <td>0</td>\n",
       "      <td>[1, 0, 0, 0, 0, 0, 0, 0]</td>\n",
       "    </tr>\n",
       "    <tr>\n",
       "      <th>6</th>\n",
       "      <td>1</td>\n",
       "      <td>0</td>\n",
       "      <td>0</td>\n",
       "      <td>0</td>\n",
       "      <td>0</td>\n",
       "      <td>0</td>\n",
       "      <td>0</td>\n",
       "      <td>0</td>\n",
       "      <td>[1, 0, 0, 0, 0, 0, 0, 0]</td>\n",
       "    </tr>\n",
       "  </tbody>\n",
       "</table>\n",
       "</div>"
      ],
      "text/plain": [
       "   0-2  4-6  8-12  15-20  21-35  36-45  46-59  60-100  \\\n",
       "0    1    0     0      0      0      0      0       0   \n",
       "1    1    0     0      0      0      0      0       0   \n",
       "4    1    0     0      0      0      0      0       0   \n",
       "5    1    0     0      0      0      0      0       0   \n",
       "6    1    0     0      0      0      0      0       0   \n",
       "\n",
       "                         gt  \n",
       "0  [1, 0, 0, 0, 0, 0, 0, 0]  \n",
       "1  [1, 0, 0, 0, 0, 0, 0, 0]  \n",
       "4  [1, 0, 0, 0, 0, 0, 0, 0]  \n",
       "5  [1, 0, 0, 0, 0, 0, 0, 0]  \n",
       "6  [1, 0, 0, 0, 0, 0, 0, 0]  "
      ]
     },
     "execution_count": 36,
     "metadata": {},
     "output_type": "execute_result"
    }
   ],
   "source": [
    "print(df_label_faces.shape)\n",
    "df_label_faces.head()"
   ]
  },
  {
   "cell_type": "code",
   "execution_count": 37,
   "metadata": {},
   "outputs": [],
   "source": [
    "# Merge both dataframes:\n",
    "\n",
    "data_final = pd.concat([faces_df, df_label_faces], axis=1)"
   ]
  },
  {
   "cell_type": "code",
   "execution_count": 39,
   "metadata": {},
   "outputs": [
    {
     "name": "stdout",
     "output_type": "stream",
     "text": [
      "(13809, 13)\n"
     ]
    },
    {
     "data": {
      "text/html": [
       "<div>\n",
       "<style scoped>\n",
       "    .dataframe tbody tr th:only-of-type {\n",
       "        vertical-align: middle;\n",
       "    }\n",
       "\n",
       "    .dataframe tbody tr th {\n",
       "        vertical-align: top;\n",
       "    }\n",
       "\n",
       "    .dataframe thead th {\n",
       "        text-align: right;\n",
       "    }\n",
       "</style>\n",
       "<table border=\"1\" class=\"dataframe\">\n",
       "  <thead>\n",
       "    <tr style=\"text-align: right;\">\n",
       "      <th></th>\n",
       "      <th>label</th>\n",
       "      <th>image_path</th>\n",
       "      <th>image_name</th>\n",
       "      <th>arrays</th>\n",
       "      <th>0-2</th>\n",
       "      <th>4-6</th>\n",
       "      <th>8-12</th>\n",
       "      <th>15-20</th>\n",
       "      <th>21-35</th>\n",
       "      <th>36-45</th>\n",
       "      <th>46-59</th>\n",
       "      <th>60-100</th>\n",
       "      <th>gt</th>\n",
       "    </tr>\n",
       "  </thead>\n",
       "  <tbody>\n",
       "    <tr>\n",
       "      <th>0</th>\n",
       "      <td>0-2</td>\n",
       "      <td>../OUTPUT/faces_detected/0-2/image_669.jpg</td>\n",
       "      <td>image_669.jpg</td>\n",
       "      <td>[[67, 82, 64, 48, 48, 50, 51, 50, 50, 62, 73, ...</td>\n",
       "      <td>1</td>\n",
       "      <td>0</td>\n",
       "      <td>0</td>\n",
       "      <td>0</td>\n",
       "      <td>0</td>\n",
       "      <td>0</td>\n",
       "      <td>0</td>\n",
       "      <td>0</td>\n",
       "      <td>[1, 0, 0, 0, 0, 0, 0, 0]</td>\n",
       "    </tr>\n",
       "    <tr>\n",
       "      <th>1</th>\n",
       "      <td>0-2</td>\n",
       "      <td>../OUTPUT/faces_detected/0-2/image_1570.jpg</td>\n",
       "      <td>image_1570.jpg</td>\n",
       "      <td>[[35, 33, 40, 42, 38, 58, 107, 141, 154, 135, ...</td>\n",
       "      <td>1</td>\n",
       "      <td>0</td>\n",
       "      <td>0</td>\n",
       "      <td>0</td>\n",
       "      <td>0</td>\n",
       "      <td>0</td>\n",
       "      <td>0</td>\n",
       "      <td>0</td>\n",
       "      <td>[1, 0, 0, 0, 0, 0, 0, 0]</td>\n",
       "    </tr>\n",
       "    <tr>\n",
       "      <th>4</th>\n",
       "      <td>0-2</td>\n",
       "      <td>../OUTPUT/faces_detected/0-2/image_1055.jpg</td>\n",
       "      <td>image_1055.jpg</td>\n",
       "      <td>[[21, 15, 17, 18, 17, 20, 17, 14, 16, 19, 23, ...</td>\n",
       "      <td>1</td>\n",
       "      <td>0</td>\n",
       "      <td>0</td>\n",
       "      <td>0</td>\n",
       "      <td>0</td>\n",
       "      <td>0</td>\n",
       "      <td>0</td>\n",
       "      <td>0</td>\n",
       "      <td>[1, 0, 0, 0, 0, 0, 0, 0]</td>\n",
       "    </tr>\n",
       "    <tr>\n",
       "      <th>5</th>\n",
       "      <td>0-2</td>\n",
       "      <td>../OUTPUT/faces_detected/0-2/image_1135.jpg</td>\n",
       "      <td>image_1135.jpg</td>\n",
       "      <td>[[26, 23, 27, 32, 64, 58, 71, 71, 81, 68, 93, ...</td>\n",
       "      <td>1</td>\n",
       "      <td>0</td>\n",
       "      <td>0</td>\n",
       "      <td>0</td>\n",
       "      <td>0</td>\n",
       "      <td>0</td>\n",
       "      <td>0</td>\n",
       "      <td>0</td>\n",
       "      <td>[1, 0, 0, 0, 0, 0, 0, 0]</td>\n",
       "    </tr>\n",
       "    <tr>\n",
       "      <th>6</th>\n",
       "      <td>0-2</td>\n",
       "      <td>../OUTPUT/faces_detected/0-2/image_231.jpg</td>\n",
       "      <td>image_231.jpg</td>\n",
       "      <td>[[63, 65, 63, 57, 65, 64, 69, 66, 67, 69, 73, ...</td>\n",
       "      <td>1</td>\n",
       "      <td>0</td>\n",
       "      <td>0</td>\n",
       "      <td>0</td>\n",
       "      <td>0</td>\n",
       "      <td>0</td>\n",
       "      <td>0</td>\n",
       "      <td>0</td>\n",
       "      <td>[1, 0, 0, 0, 0, 0, 0, 0]</td>\n",
       "    </tr>\n",
       "  </tbody>\n",
       "</table>\n",
       "</div>"
      ],
      "text/plain": [
       "  label                                   image_path      image_name  \\\n",
       "0   0-2   ../OUTPUT/faces_detected/0-2/image_669.jpg   image_669.jpg   \n",
       "1   0-2  ../OUTPUT/faces_detected/0-2/image_1570.jpg  image_1570.jpg   \n",
       "4   0-2  ../OUTPUT/faces_detected/0-2/image_1055.jpg  image_1055.jpg   \n",
       "5   0-2  ../OUTPUT/faces_detected/0-2/image_1135.jpg  image_1135.jpg   \n",
       "6   0-2   ../OUTPUT/faces_detected/0-2/image_231.jpg   image_231.jpg   \n",
       "\n",
       "                                              arrays  0-2  4-6  8-12  15-20  \\\n",
       "0  [[67, 82, 64, 48, 48, 50, 51, 50, 50, 62, 73, ...    1    0     0      0   \n",
       "1  [[35, 33, 40, 42, 38, 58, 107, 141, 154, 135, ...    1    0     0      0   \n",
       "4  [[21, 15, 17, 18, 17, 20, 17, 14, 16, 19, 23, ...    1    0     0      0   \n",
       "5  [[26, 23, 27, 32, 64, 58, 71, 71, 81, 68, 93, ...    1    0     0      0   \n",
       "6  [[63, 65, 63, 57, 65, 64, 69, 66, 67, 69, 73, ...    1    0     0      0   \n",
       "\n",
       "   21-35  36-45  46-59  60-100                        gt  \n",
       "0      0      0      0       0  [1, 0, 0, 0, 0, 0, 0, 0]  \n",
       "1      0      0      0       0  [1, 0, 0, 0, 0, 0, 0, 0]  \n",
       "4      0      0      0       0  [1, 0, 0, 0, 0, 0, 0, 0]  \n",
       "5      0      0      0       0  [1, 0, 0, 0, 0, 0, 0, 0]  \n",
       "6      0      0      0       0  [1, 0, 0, 0, 0, 0, 0, 0]  "
      ]
     },
     "execution_count": 39,
     "metadata": {},
     "output_type": "execute_result"
    }
   ],
   "source": [
    "print(data_final.shape)\n",
    "data_final.head()"
   ]
  },
  {
   "cell_type": "markdown",
   "metadata": {},
   "source": [
    "# Export data_final as Pickle:"
   ]
  },
  {
   "cell_type": "code",
   "execution_count": 40,
   "metadata": {},
   "outputs": [],
   "source": [
    "data_final.to_pickle(\"../OUTPUT/data_final.pkl\")"
   ]
  },
  {
   "cell_type": "markdown",
   "metadata": {},
   "source": [
    "All dones!"
   ]
  }
 ],
 "metadata": {
  "kernelspec": {
   "display_name": "Python 3",
   "language": "python",
   "name": "python3"
  },
  "language_info": {
   "codemirror_mode": {
    "name": "ipython",
    "version": 3
   },
   "file_extension": ".py",
   "mimetype": "text/x-python",
   "name": "python",
   "nbconvert_exporter": "python",
   "pygments_lexer": "ipython3",
   "version": "3.7.5"
  }
 },
 "nbformat": 4,
 "nbformat_minor": 4
}
