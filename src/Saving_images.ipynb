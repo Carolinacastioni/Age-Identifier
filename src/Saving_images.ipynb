{
 "cells": [
  {
   "cell_type": "markdown",
   "metadata": {},
   "source": [
    "# Import libraries"
   ]
  },
  {
   "cell_type": "code",
   "execution_count": 4,
   "metadata": {},
   "outputs": [],
   "source": [
    "import os\n",
    "import pandas as pd\n",
    "import numpy as np\n",
    "import matplotlib.pyplot as plt\n",
    "from PIL import Image\n",
    "import sys\n",
    "import cv2"
   ]
  },
  {
   "cell_type": "markdown",
   "metadata": {},
   "source": [
    "# Import dataset"
   ]
  },
  {
   "cell_type": "code",
   "execution_count": 2,
   "metadata": {},
   "outputs": [],
   "source": [
    "df = pd.read_csv(\"../INPUT/data.csv\")"
   ]
  },
  {
   "cell_type": "code",
   "execution_count": 5,
   "metadata": {},
   "outputs": [
    {
     "name": "stdout",
     "output_type": "stream",
     "text": [
      "(17570, 13)\n"
     ]
    },
    {
     "data": {
      "text/html": [
       "<div>\n",
       "<style scoped>\n",
       "    .dataframe tbody tr th:only-of-type {\n",
       "        vertical-align: middle;\n",
       "    }\n",
       "\n",
       "    .dataframe tbody tr th {\n",
       "        vertical-align: top;\n",
       "    }\n",
       "\n",
       "    .dataframe thead th {\n",
       "        text-align: right;\n",
       "    }\n",
       "</style>\n",
       "<table border=\"1\" class=\"dataframe\">\n",
       "  <thead>\n",
       "    <tr style=\"text-align: right;\">\n",
       "      <th></th>\n",
       "      <th>user_id</th>\n",
       "      <th>original_image</th>\n",
       "      <th>face_id</th>\n",
       "      <th>age</th>\n",
       "      <th>check</th>\n",
       "      <th>gender</th>\n",
       "      <th>x</th>\n",
       "      <th>y</th>\n",
       "      <th>dx</th>\n",
       "      <th>dy</th>\n",
       "      <th>tilt_ang</th>\n",
       "      <th>fiducial_yaw_angle</th>\n",
       "      <th>fiducial_score</th>\n",
       "    </tr>\n",
       "  </thead>\n",
       "  <tbody>\n",
       "    <tr>\n",
       "      <th>0</th>\n",
       "      <td>30601258@N03</td>\n",
       "      <td>10424815813_e94629b1ec_o.jpg</td>\n",
       "      <td>2</td>\n",
       "      <td>(25, 32)</td>\n",
       "      <td>1</td>\n",
       "      <td>m</td>\n",
       "      <td>301</td>\n",
       "      <td>105</td>\n",
       "      <td>640</td>\n",
       "      <td>641</td>\n",
       "      <td>0</td>\n",
       "      <td>0</td>\n",
       "      <td>94</td>\n",
       "    </tr>\n",
       "    <tr>\n",
       "      <th>1</th>\n",
       "      <td>30601258@N03</td>\n",
       "      <td>10437979845_5985be4b26_o.jpg</td>\n",
       "      <td>3</td>\n",
       "      <td>(25, 32)</td>\n",
       "      <td>1</td>\n",
       "      <td>m</td>\n",
       "      <td>752</td>\n",
       "      <td>1255</td>\n",
       "      <td>484</td>\n",
       "      <td>485</td>\n",
       "      <td>180</td>\n",
       "      <td>0</td>\n",
       "      <td>47</td>\n",
       "    </tr>\n",
       "    <tr>\n",
       "      <th>2</th>\n",
       "      <td>30601258@N03</td>\n",
       "      <td>11816644924_075c3d8d59_o.jpg</td>\n",
       "      <td>2</td>\n",
       "      <td>(25, 32)</td>\n",
       "      <td>1</td>\n",
       "      <td>m</td>\n",
       "      <td>175</td>\n",
       "      <td>80</td>\n",
       "      <td>769</td>\n",
       "      <td>768</td>\n",
       "      <td>-75</td>\n",
       "      <td>0</td>\n",
       "      <td>34</td>\n",
       "    </tr>\n",
       "    <tr>\n",
       "      <th>3</th>\n",
       "      <td>30601258@N03</td>\n",
       "      <td>10424595844_1009c687e4_o.jpg</td>\n",
       "      <td>4</td>\n",
       "      <td>(38, 43)</td>\n",
       "      <td>1</td>\n",
       "      <td>f</td>\n",
       "      <td>1912</td>\n",
       "      <td>905</td>\n",
       "      <td>1224</td>\n",
       "      <td>1224</td>\n",
       "      <td>155</td>\n",
       "      <td>0</td>\n",
       "      <td>64</td>\n",
       "    </tr>\n",
       "    <tr>\n",
       "      <th>4</th>\n",
       "      <td>30601258@N03</td>\n",
       "      <td>9506931745_796300ca4a_o.jpg</td>\n",
       "      <td>5</td>\n",
       "      <td>(25, 32)</td>\n",
       "      <td>1</td>\n",
       "      <td>f</td>\n",
       "      <td>1069</td>\n",
       "      <td>581</td>\n",
       "      <td>1575</td>\n",
       "      <td>1575</td>\n",
       "      <td>0</td>\n",
       "      <td>30</td>\n",
       "      <td>131</td>\n",
       "    </tr>\n",
       "  </tbody>\n",
       "</table>\n",
       "</div>"
      ],
      "text/plain": [
       "        user_id                original_image  face_id       age  check  \\\n",
       "0  30601258@N03  10424815813_e94629b1ec_o.jpg        2  (25, 32)      1   \n",
       "1  30601258@N03  10437979845_5985be4b26_o.jpg        3  (25, 32)      1   \n",
       "2  30601258@N03  11816644924_075c3d8d59_o.jpg        2  (25, 32)      1   \n",
       "3  30601258@N03  10424595844_1009c687e4_o.jpg        4  (38, 43)      1   \n",
       "4  30601258@N03   9506931745_796300ca4a_o.jpg        5  (25, 32)      1   \n",
       "\n",
       "  gender     x     y    dx    dy  tilt_ang  fiducial_yaw_angle  fiducial_score  \n",
       "0      m   301   105   640   641         0                   0              94  \n",
       "1      m   752  1255   484   485       180                   0              47  \n",
       "2      m   175    80   769   768       -75                   0              34  \n",
       "3      f  1912   905  1224  1224       155                   0              64  \n",
       "4      f  1069   581  1575  1575         0                  30             131  "
      ]
     },
     "execution_count": 5,
     "metadata": {},
     "output_type": "execute_result"
    }
   ],
   "source": [
    "print(df.shape)\n",
    "df.head()"
   ]
  },
  {
   "cell_type": "markdown",
   "metadata": {},
   "source": [
    "## Drop columns we won't use"
   ]
  },
  {
   "cell_type": "code",
   "execution_count": 6,
   "metadata": {},
   "outputs": [],
   "source": [
    "df = df.drop(columns=['check', 'gender', 'x', 'y', 'dx', 'dy', 'tilt_ang', 'fiducial_yaw_angle', 'fiducial_score'])"
   ]
  },
  {
   "cell_type": "code",
   "execution_count": 22,
   "metadata": {},
   "outputs": [
    {
     "data": {
      "text/html": [
       "<div>\n",
       "<style scoped>\n",
       "    .dataframe tbody tr th:only-of-type {\n",
       "        vertical-align: middle;\n",
       "    }\n",
       "\n",
       "    .dataframe tbody tr th {\n",
       "        vertical-align: top;\n",
       "    }\n",
       "\n",
       "    .dataframe thead th {\n",
       "        text-align: right;\n",
       "    }\n",
       "</style>\n",
       "<table border=\"1\" class=\"dataframe\">\n",
       "  <thead>\n",
       "    <tr style=\"text-align: right;\">\n",
       "      <th></th>\n",
       "      <th>user_id</th>\n",
       "      <th>original_image</th>\n",
       "      <th>face_id</th>\n",
       "      <th>age</th>\n",
       "    </tr>\n",
       "  </thead>\n",
       "  <tbody>\n",
       "    <tr>\n",
       "      <th>0</th>\n",
       "      <td>30601258@N03</td>\n",
       "      <td>10424815813_e94629b1ec_o.jpg</td>\n",
       "      <td>2</td>\n",
       "      <td>(25, 32)</td>\n",
       "    </tr>\n",
       "    <tr>\n",
       "      <th>1</th>\n",
       "      <td>30601258@N03</td>\n",
       "      <td>10437979845_5985be4b26_o.jpg</td>\n",
       "      <td>3</td>\n",
       "      <td>(25, 32)</td>\n",
       "    </tr>\n",
       "    <tr>\n",
       "      <th>2</th>\n",
       "      <td>30601258@N03</td>\n",
       "      <td>11816644924_075c3d8d59_o.jpg</td>\n",
       "      <td>2</td>\n",
       "      <td>(25, 32)</td>\n",
       "    </tr>\n",
       "    <tr>\n",
       "      <th>3</th>\n",
       "      <td>30601258@N03</td>\n",
       "      <td>10424595844_1009c687e4_o.jpg</td>\n",
       "      <td>4</td>\n",
       "      <td>(38, 43)</td>\n",
       "    </tr>\n",
       "    <tr>\n",
       "      <th>4</th>\n",
       "      <td>30601258@N03</td>\n",
       "      <td>9506931745_796300ca4a_o.jpg</td>\n",
       "      <td>5</td>\n",
       "      <td>(25, 32)</td>\n",
       "    </tr>\n",
       "  </tbody>\n",
       "</table>\n",
       "</div>"
      ],
      "text/plain": [
       "        user_id                original_image  face_id       age\n",
       "0  30601258@N03  10424815813_e94629b1ec_o.jpg        2  (25, 32)\n",
       "1  30601258@N03  10437979845_5985be4b26_o.jpg        3  (25, 32)\n",
       "2  30601258@N03  11816644924_075c3d8d59_o.jpg        2  (25, 32)\n",
       "3  30601258@N03  10424595844_1009c687e4_o.jpg        4  (38, 43)\n",
       "4  30601258@N03   9506931745_796300ca4a_o.jpg        5  (25, 32)"
      ]
     },
     "execution_count": 22,
     "metadata": {},
     "output_type": "execute_result"
    }
   ],
   "source": [
    "df.head()"
   ]
  },
  {
   "cell_type": "markdown",
   "metadata": {},
   "source": [
    "# Save images in the corresponding folder of their range age:"
   ]
  },
  {
   "cell_type": "code",
   "execution_count": 9,
   "metadata": {},
   "outputs": [],
   "source": [
    "def getInfo(df):\n",
    "    user = list(df['user_id'])\n",
    "    face = list(df['face_id'])\n",
    "    image = list(df['original_image'])\n",
    "    info = zip(user, face, image)\n",
    "    info_set = set(info)\n",
    "    return info_set"
   ]
  },
  {
   "cell_type": "code",
   "execution_count": 13,
   "metadata": {},
   "outputs": [],
   "source": [
    "def getImageList(images):\n",
    "    lst_im = []\n",
    "    for u,f,i in images:\n",
    "        a = (f\"../INPUT/faces/{u}/coarse_tilt_aligned_face.{f}.{i}\")\n",
    "        lst_im.append(a)\n",
    "    return lst_im"
   ]
  },
  {
   "cell_type": "code",
   "execution_count": 23,
   "metadata": {},
   "outputs": [],
   "source": [
    "def SaveImages(lst_images, folder):\n",
    "    try:\n",
    "        for i, pic in enumerate(lst_images):\n",
    "            img = Image.open(pic)\n",
    "            img.save(f\"../OUTPUT/images/{folder}/image_{i}.jpg\")\n",
    "    except:\n",
    "        pass\n",
    "    return f\"All images were saved in the folder {folder}\"   "
   ]
  },
  {
   "cell_type": "code",
   "execution_count": 24,
   "metadata": {},
   "outputs": [
    {
     "data": {
      "text/plain": [
       "'All images were saved in the folder 0-2'"
      ]
     },
     "execution_count": 24,
     "metadata": {},
     "output_type": "execute_result"
    }
   ],
   "source": [
    "# Age 0-2:\n",
    "\n",
    "data0_2 = df[df.age == '(0, 2)']\n",
    "\n",
    "images = getInfo(data0_2)\n",
    "\n",
    "lst_images = getImageList(images)\n",
    "\n",
    "SaveImages(lst_images, '0-2')"
   ]
  },
  {
   "cell_type": "code",
   "execution_count": 25,
   "metadata": {},
   "outputs": [
    {
     "data": {
      "text/plain": [
       "'All images were saved in the folder 4-6'"
      ]
     },
     "execution_count": 25,
     "metadata": {},
     "output_type": "execute_result"
    }
   ],
   "source": [
    "# Age 4-6:\n",
    "\n",
    "data = df[df.age == '(4, 6)']\n",
    "\n",
    "images = getInfo(data)\n",
    "\n",
    "lst_images = getImageList(images)\n",
    "\n",
    "SaveImages(lst_images, '4-6')"
   ]
  },
  {
   "cell_type": "code",
   "execution_count": 26,
   "metadata": {},
   "outputs": [
    {
     "data": {
      "text/plain": [
       "'All images were saved in the folder 8-12'"
      ]
     },
     "execution_count": 26,
     "metadata": {},
     "output_type": "execute_result"
    }
   ],
   "source": [
    "# Age 8-12:\n",
    "\n",
    "data = df[df.age == '(8, 12)']\n",
    "\n",
    "images = getInfo(data)\n",
    "\n",
    "lst_images = getImageList(images)\n",
    "\n",
    "SaveImages(lst_images, '8-12')"
   ]
  },
  {
   "cell_type": "code",
   "execution_count": 27,
   "metadata": {},
   "outputs": [
    {
     "data": {
      "text/plain": [
       "'All images were saved in the folder 15-20'"
      ]
     },
     "execution_count": 27,
     "metadata": {},
     "output_type": "execute_result"
    }
   ],
   "source": [
    "# Age 15-20:\n",
    "\n",
    "data = df[df.age == '(15, 20)']\n",
    "\n",
    "images = getInfo(data)\n",
    "\n",
    "lst_images = getImageList(images)\n",
    "\n",
    "SaveImages(lst_images, '15-20')"
   ]
  },
  {
   "cell_type": "code",
   "execution_count": 28,
   "metadata": {},
   "outputs": [
    {
     "data": {
      "text/plain": [
       "'All images were saved in the folder 21-35'"
      ]
     },
     "execution_count": 28,
     "metadata": {},
     "output_type": "execute_result"
    }
   ],
   "source": [
    "# Age 21-35:\n",
    "\n",
    "data = df[df.age == '(25, 32)']\n",
    "\n",
    "images = getInfo(data)\n",
    "\n",
    "lst_images = getImageList(images)\n",
    "\n",
    "SaveImages(lst_images, '21-35')"
   ]
  },
  {
   "cell_type": "code",
   "execution_count": 29,
   "metadata": {},
   "outputs": [
    {
     "data": {
      "text/plain": [
       "'All images were saved in the folder 36-45'"
      ]
     },
     "execution_count": 29,
     "metadata": {},
     "output_type": "execute_result"
    }
   ],
   "source": [
    "# Age 36-45:\n",
    "\n",
    "data = df[df.age == '(38, 43)']\n",
    "\n",
    "images = getInfo(data)\n",
    "\n",
    "lst_images = getImageList(images)\n",
    "\n",
    "SaveImages(lst_images, '36-45')"
   ]
  },
  {
   "cell_type": "code",
   "execution_count": 30,
   "metadata": {},
   "outputs": [
    {
     "data": {
      "text/plain": [
       "'All images were saved in the folder 46-59'"
      ]
     },
     "execution_count": 30,
     "metadata": {},
     "output_type": "execute_result"
    }
   ],
   "source": [
    "# Age 46-59:\n",
    "\n",
    "data = df[df.age == '(48, 53)']\n",
    "\n",
    "images = getInfo(data)\n",
    "\n",
    "lst_images = getImageList(images)\n",
    "\n",
    "SaveImages(lst_images, '46-59')"
   ]
  },
  {
   "cell_type": "code",
   "execution_count": 31,
   "metadata": {},
   "outputs": [
    {
     "data": {
      "text/plain": [
       "'All images were saved in the folder 60-100'"
      ]
     },
     "execution_count": 31,
     "metadata": {},
     "output_type": "execute_result"
    }
   ],
   "source": [
    "# Age 60-100:\n",
    "\n",
    "data = df[df.age == '(60, 100)']\n",
    "\n",
    "images = getInfo(data)\n",
    "\n",
    "lst_images = getImageList(images)\n",
    "\n",
    "SaveImages(lst_images, '60-100')"
   ]
  },
  {
   "cell_type": "markdown",
   "metadata": {},
   "source": [
    "All good!"
   ]
  }
 ],
 "metadata": {
  "kernelspec": {
   "display_name": "Python 3",
   "language": "python",
   "name": "python3"
  },
  "language_info": {
   "codemirror_mode": {
    "name": "ipython",
    "version": 3
   },
   "file_extension": ".py",
   "mimetype": "text/x-python",
   "name": "python",
   "nbconvert_exporter": "python",
   "pygments_lexer": "ipython3",
   "version": "3.7.5"
  }
 },
 "nbformat": 4,
 "nbformat_minor": 4
}
