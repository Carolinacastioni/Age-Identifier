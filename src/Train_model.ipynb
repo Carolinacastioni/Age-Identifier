{
 "cells": [
  {
   "cell_type": "markdown",
   "metadata": {},
   "source": [
    "# Import libraries"
   ]
  },
  {
   "cell_type": "code",
   "execution_count": 16,
   "metadata": {},
   "outputs": [],
   "source": [
    "from __future__ import print_function\n",
    "import keras\n",
    "from keras.datasets import mnist\n",
    "from keras.models import Sequential\n",
    "from keras.layers import Dense, Dropout, Flatten\n",
    "from keras.layers import Conv2D, MaxPooling2D\n",
    "from keras.layers.normalization import BatchNormalization\n",
    "from keras.optimizers import SGD\n",
    "from keras.optimizers import Adam\n",
    "from sklearn.model_selection import train_test_split\n",
    "from keras.models import model_from_json\n",
    "from keras import backend as K\n",
    "from sklearn.metrics import confusion_matrix\n",
    "from PIL import Image\n",
    "import pandas as pd\n",
    "import time\n",
    "import json\n",
    "import numpy as np\n",
    "import glob\n",
    "import cv2\n",
    "import seaborn as sns\n",
    "import matplotlib.pyplot as plt"
   ]
  },
  {
   "cell_type": "markdown",
   "metadata": {},
   "source": [
    "# Train with data_final:"
   ]
  },
  {
   "cell_type": "code",
   "execution_count": 2,
   "metadata": {},
   "outputs": [],
   "source": [
    "data_final = pd.read_pickle('../OUTPUT/data_final.pkl')"
   ]
  },
  {
   "cell_type": "code",
   "execution_count": 3,
   "metadata": {},
   "outputs": [
    {
     "name": "stdout",
     "output_type": "stream",
     "text": [
      "(13809, 13)\n"
     ]
    },
    {
     "data": {
      "text/html": [
       "<div>\n",
       "<style scoped>\n",
       "    .dataframe tbody tr th:only-of-type {\n",
       "        vertical-align: middle;\n",
       "    }\n",
       "\n",
       "    .dataframe tbody tr th {\n",
       "        vertical-align: top;\n",
       "    }\n",
       "\n",
       "    .dataframe thead th {\n",
       "        text-align: right;\n",
       "    }\n",
       "</style>\n",
       "<table border=\"1\" class=\"dataframe\">\n",
       "  <thead>\n",
       "    <tr style=\"text-align: right;\">\n",
       "      <th></th>\n",
       "      <th>label</th>\n",
       "      <th>image_path</th>\n",
       "      <th>image_name</th>\n",
       "      <th>arrays</th>\n",
       "      <th>0-2</th>\n",
       "      <th>4-6</th>\n",
       "      <th>8-12</th>\n",
       "      <th>15-20</th>\n",
       "      <th>21-35</th>\n",
       "      <th>36-45</th>\n",
       "      <th>46-59</th>\n",
       "      <th>60-100</th>\n",
       "      <th>gt</th>\n",
       "    </tr>\n",
       "  </thead>\n",
       "  <tbody>\n",
       "    <tr>\n",
       "      <th>0</th>\n",
       "      <td>0-2</td>\n",
       "      <td>../OUTPUT/faces_detected/0-2/image_669.jpg</td>\n",
       "      <td>image_669.jpg</td>\n",
       "      <td>[[67, 82, 64, 48, 48, 50, 51, 50, 50, 62, 73, ...</td>\n",
       "      <td>1</td>\n",
       "      <td>0</td>\n",
       "      <td>0</td>\n",
       "      <td>0</td>\n",
       "      <td>0</td>\n",
       "      <td>0</td>\n",
       "      <td>0</td>\n",
       "      <td>0</td>\n",
       "      <td>[1, 0, 0, 0, 0, 0, 0, 0]</td>\n",
       "    </tr>\n",
       "    <tr>\n",
       "      <th>1</th>\n",
       "      <td>0-2</td>\n",
       "      <td>../OUTPUT/faces_detected/0-2/image_1570.jpg</td>\n",
       "      <td>image_1570.jpg</td>\n",
       "      <td>[[35, 33, 40, 42, 38, 58, 107, 141, 154, 135, ...</td>\n",
       "      <td>1</td>\n",
       "      <td>0</td>\n",
       "      <td>0</td>\n",
       "      <td>0</td>\n",
       "      <td>0</td>\n",
       "      <td>0</td>\n",
       "      <td>0</td>\n",
       "      <td>0</td>\n",
       "      <td>[1, 0, 0, 0, 0, 0, 0, 0]</td>\n",
       "    </tr>\n",
       "    <tr>\n",
       "      <th>4</th>\n",
       "      <td>0-2</td>\n",
       "      <td>../OUTPUT/faces_detected/0-2/image_1055.jpg</td>\n",
       "      <td>image_1055.jpg</td>\n",
       "      <td>[[21, 15, 17, 18, 17, 20, 17, 14, 16, 19, 23, ...</td>\n",
       "      <td>1</td>\n",
       "      <td>0</td>\n",
       "      <td>0</td>\n",
       "      <td>0</td>\n",
       "      <td>0</td>\n",
       "      <td>0</td>\n",
       "      <td>0</td>\n",
       "      <td>0</td>\n",
       "      <td>[1, 0, 0, 0, 0, 0, 0, 0]</td>\n",
       "    </tr>\n",
       "    <tr>\n",
       "      <th>5</th>\n",
       "      <td>0-2</td>\n",
       "      <td>../OUTPUT/faces_detected/0-2/image_1135.jpg</td>\n",
       "      <td>image_1135.jpg</td>\n",
       "      <td>[[26, 23, 27, 32, 64, 58, 71, 71, 81, 68, 93, ...</td>\n",
       "      <td>1</td>\n",
       "      <td>0</td>\n",
       "      <td>0</td>\n",
       "      <td>0</td>\n",
       "      <td>0</td>\n",
       "      <td>0</td>\n",
       "      <td>0</td>\n",
       "      <td>0</td>\n",
       "      <td>[1, 0, 0, 0, 0, 0, 0, 0]</td>\n",
       "    </tr>\n",
       "    <tr>\n",
       "      <th>6</th>\n",
       "      <td>0-2</td>\n",
       "      <td>../OUTPUT/faces_detected/0-2/image_231.jpg</td>\n",
       "      <td>image_231.jpg</td>\n",
       "      <td>[[63, 65, 63, 57, 65, 64, 69, 66, 67, 69, 73, ...</td>\n",
       "      <td>1</td>\n",
       "      <td>0</td>\n",
       "      <td>0</td>\n",
       "      <td>0</td>\n",
       "      <td>0</td>\n",
       "      <td>0</td>\n",
       "      <td>0</td>\n",
       "      <td>0</td>\n",
       "      <td>[1, 0, 0, 0, 0, 0, 0, 0]</td>\n",
       "    </tr>\n",
       "  </tbody>\n",
       "</table>\n",
       "</div>"
      ],
      "text/plain": [
       "  label                                   image_path      image_name  \\\n",
       "0   0-2   ../OUTPUT/faces_detected/0-2/image_669.jpg   image_669.jpg   \n",
       "1   0-2  ../OUTPUT/faces_detected/0-2/image_1570.jpg  image_1570.jpg   \n",
       "4   0-2  ../OUTPUT/faces_detected/0-2/image_1055.jpg  image_1055.jpg   \n",
       "5   0-2  ../OUTPUT/faces_detected/0-2/image_1135.jpg  image_1135.jpg   \n",
       "6   0-2   ../OUTPUT/faces_detected/0-2/image_231.jpg   image_231.jpg   \n",
       "\n",
       "                                              arrays  0-2  4-6  8-12  15-20  \\\n",
       "0  [[67, 82, 64, 48, 48, 50, 51, 50, 50, 62, 73, ...    1    0     0      0   \n",
       "1  [[35, 33, 40, 42, 38, 58, 107, 141, 154, 135, ...    1    0     0      0   \n",
       "4  [[21, 15, 17, 18, 17, 20, 17, 14, 16, 19, 23, ...    1    0     0      0   \n",
       "5  [[26, 23, 27, 32, 64, 58, 71, 71, 81, 68, 93, ...    1    0     0      0   \n",
       "6  [[63, 65, 63, 57, 65, 64, 69, 66, 67, 69, 73, ...    1    0     0      0   \n",
       "\n",
       "   21-35  36-45  46-59  60-100                        gt  \n",
       "0      0      0      0       0  [1, 0, 0, 0, 0, 0, 0, 0]  \n",
       "1      0      0      0       0  [1, 0, 0, 0, 0, 0, 0, 0]  \n",
       "4      0      0      0       0  [1, 0, 0, 0, 0, 0, 0, 0]  \n",
       "5      0      0      0       0  [1, 0, 0, 0, 0, 0, 0, 0]  \n",
       "6      0      0      0       0  [1, 0, 0, 0, 0, 0, 0, 0]  "
      ]
     },
     "execution_count": 3,
     "metadata": {},
     "output_type": "execute_result"
    }
   ],
   "source": [
    "print(data_final.shape)\n",
    "data_final.head()"
   ]
  },
  {
   "cell_type": "markdown",
   "metadata": {},
   "source": [
    "# Split Train and Test:"
   ]
  },
  {
   "cell_type": "code",
   "execution_count": 4,
   "metadata": {},
   "outputs": [],
   "source": [
    "X = np.stack(data_final['arrays'])\n",
    "X = X / 255.0 #normalize"
   ]
  },
  {
   "cell_type": "code",
   "execution_count": 5,
   "metadata": {},
   "outputs": [],
   "source": [
    "y = np.stack(data_final['gt'])"
   ]
  },
  {
   "cell_type": "code",
   "execution_count": 6,
   "metadata": {},
   "outputs": [],
   "source": [
    "X_train, X_test, y_train, y_test = train_test_split(X, y, test_size=0.2)"
   ]
  },
  {
   "cell_type": "code",
   "execution_count": 7,
   "metadata": {},
   "outputs": [
    {
     "name": "stdout",
     "output_type": "stream",
     "text": [
      "(11047, 48, 48) (2762, 48, 48) (11047, 8) (2762, 8)\n"
     ]
    }
   ],
   "source": [
    "print(X_train.shape, X_test.shape, y_train.shape, y_test.shape)"
   ]
  },
  {
   "cell_type": "markdown",
   "metadata": {},
   "source": [
    "# Adaping the shape to the model:"
   ]
  },
  {
   "cell_type": "code",
   "execution_count": 8,
   "metadata": {},
   "outputs": [],
   "source": [
    "img_rows, img_cols, img_channels = 48, 48, 1\n",
    "\n",
    "input_shape= (img_rows, img_cols, img_channels)\n",
    "\n",
    "num_classes = 8"
   ]
  },
  {
   "cell_type": "code",
   "execution_count": 9,
   "metadata": {},
   "outputs": [],
   "source": [
    "if K.image_data_format() == 'channels_first':\n",
    "    X_train = X_train.reshape(X_train.shape[0], 1, img_rows, img_cols)\n",
    "    X_test = X_test.reshape(X_test.shape[0], 1, img_rows, img_cols)\n",
    "    input_shape = (1, img_rows, img_cols)\n",
    "else:\n",
    "    X_train = X_train.reshape(X_train.shape[0], img_rows, img_cols, 1)\n",
    "    X_test = X_test.reshape(X_test.shape[0], img_rows, img_cols, 1)\n",
    "    input_shape = (img_rows, img_cols, 1)"
   ]
  },
  {
   "cell_type": "code",
   "execution_count": 10,
   "metadata": {},
   "outputs": [
    {
     "name": "stdout",
     "output_type": "stream",
     "text": [
      "WARNING:tensorflow:From /home/carolina/.local/lib/python3.7/site-packages/keras/backend/tensorflow_backend.py:4070: The name tf.nn.max_pool is deprecated. Please use tf.nn.max_pool2d instead.\n",
      "\n"
     ]
    }
   ],
   "source": [
    "    model = Sequential()\n",
    "    model.add(Conv2D(64, (3, 3), input_shape=(48, 48 ,1), padding='same', activation='relu'))\n",
    "    model.add(Conv2D(64, (3, 3), activation='relu', padding='same'))\n",
    "    model.add(MaxPooling2D(pool_size=(2, 2)))\n",
    "    model.add(BatchNormalization())\n",
    "    model.add(Dropout(0.2))\n",
    "\n",
    "    model.add(Conv2D(128, (3, 3), activation='relu', padding='same'))\n",
    "    model.add(Conv2D(128, (3, 3), activation='relu', padding='same'))\n",
    "    model.add(MaxPooling2D(pool_size=(2, 2)))\n",
    "    model.add(BatchNormalization())\n",
    "    model.add(Dropout(0.2))\n",
    "\n",
    "    model.add(Conv2D(256, (3, 3), activation='relu', padding='same'))\n",
    "    model.add(Conv2D(256, (3, 3), activation='relu', padding='same'))\n",
    "    model.add(Conv2D(256, (3, 3), activation='relu', padding='same'))\n",
    "    model.add(MaxPooling2D(pool_size=(2, 2)))\n",
    "    model.add(BatchNormalization())\n",
    "    model.add(Dropout(0.2))\n",
    "\n",
    "    model.add(Conv2D(512, (3, 3), activation='relu', padding='same'))\n",
    "    model.add(Conv2D(512, (3, 3), activation='relu', padding='same'))\n",
    "    model.add(Conv2D(512, (3, 3), activation='relu', padding='same'))\n",
    "    model.add(MaxPooling2D(pool_size=(2, 2)))\n",
    "    model.add(BatchNormalization())\n",
    "    model.add(Dropout(0.2))\n",
    "\n",
    "    model.add(Flatten())\n",
    "    model.add(Dense(4096, activation='relu'))\n",
    "    model.add(Dropout(0.5))\n",
    "    model.add(Dense(num_classes, activation='softmax'))"
   ]
  },
  {
   "cell_type": "markdown",
   "metadata": {},
   "source": [
    "# Compile model"
   ]
  },
  {
   "cell_type": "code",
   "execution_count": 11,
   "metadata": {},
   "outputs": [
    {
     "name": "stdout",
     "output_type": "stream",
     "text": [
      "Model: \"sequential_1\"\n",
      "_________________________________________________________________\n",
      "Layer (type)                 Output Shape              Param #   \n",
      "=================================================================\n",
      "conv2d_1 (Conv2D)            (None, 48, 48, 64)        640       \n",
      "_________________________________________________________________\n",
      "conv2d_2 (Conv2D)            (None, 48, 48, 64)        36928     \n",
      "_________________________________________________________________\n",
      "max_pooling2d_1 (MaxPooling2 (None, 24, 24, 64)        0         \n",
      "_________________________________________________________________\n",
      "batch_normalization_1 (Batch (None, 24, 24, 64)        256       \n",
      "_________________________________________________________________\n",
      "dropout_1 (Dropout)          (None, 24, 24, 64)        0         \n",
      "_________________________________________________________________\n",
      "conv2d_3 (Conv2D)            (None, 24, 24, 128)       73856     \n",
      "_________________________________________________________________\n",
      "conv2d_4 (Conv2D)            (None, 24, 24, 128)       147584    \n",
      "_________________________________________________________________\n",
      "max_pooling2d_2 (MaxPooling2 (None, 12, 12, 128)       0         \n",
      "_________________________________________________________________\n",
      "batch_normalization_2 (Batch (None, 12, 12, 128)       512       \n",
      "_________________________________________________________________\n",
      "dropout_2 (Dropout)          (None, 12, 12, 128)       0         \n",
      "_________________________________________________________________\n",
      "conv2d_5 (Conv2D)            (None, 12, 12, 256)       295168    \n",
      "_________________________________________________________________\n",
      "conv2d_6 (Conv2D)            (None, 12, 12, 256)       590080    \n",
      "_________________________________________________________________\n",
      "conv2d_7 (Conv2D)            (None, 12, 12, 256)       590080    \n",
      "_________________________________________________________________\n",
      "max_pooling2d_3 (MaxPooling2 (None, 6, 6, 256)         0         \n",
      "_________________________________________________________________\n",
      "batch_normalization_3 (Batch (None, 6, 6, 256)         1024      \n",
      "_________________________________________________________________\n",
      "dropout_3 (Dropout)          (None, 6, 6, 256)         0         \n",
      "_________________________________________________________________\n",
      "conv2d_8 (Conv2D)            (None, 6, 6, 512)         1180160   \n",
      "_________________________________________________________________\n",
      "conv2d_9 (Conv2D)            (None, 6, 6, 512)         2359808   \n",
      "_________________________________________________________________\n",
      "conv2d_10 (Conv2D)           (None, 6, 6, 512)         2359808   \n",
      "_________________________________________________________________\n",
      "max_pooling2d_4 (MaxPooling2 (None, 3, 3, 512)         0         \n",
      "_________________________________________________________________\n",
      "batch_normalization_4 (Batch (None, 3, 3, 512)         2048      \n",
      "_________________________________________________________________\n",
      "dropout_4 (Dropout)          (None, 3, 3, 512)         0         \n",
      "_________________________________________________________________\n",
      "flatten_1 (Flatten)          (None, 4608)              0         \n",
      "_________________________________________________________________\n",
      "dense_1 (Dense)              (None, 4096)              18878464  \n",
      "_________________________________________________________________\n",
      "dropout_5 (Dropout)          (None, 4096)              0         \n",
      "_________________________________________________________________\n",
      "dense_2 (Dense)              (None, 8)                 32776     \n",
      "=================================================================\n",
      "Total params: 26,549,192\n",
      "Trainable params: 26,547,272\n",
      "Non-trainable params: 1,920\n",
      "_________________________________________________________________\n",
      "None\n",
      "WARNING:tensorflow:From /home/carolina/.local/lib/python3.7/site-packages/keras/backend/tensorflow_backend.py:422: The name tf.global_variables is deprecated. Please use tf.compat.v1.global_variables instead.\n",
      "\n",
      "Train on 11047 samples, validate on 2762 samples\n",
      "Epoch 1/25\n",
      "11047/11047 [==============================] - 433s 39ms/step - loss: 3.0149 - accuracy: 0.2533 - val_loss: 1.9907 - val_accuracy: 0.1325\n",
      "Epoch 2/25\n",
      "11047/11047 [==============================] - 428s 39ms/step - loss: 1.7512 - accuracy: 0.3481 - val_loss: 1.6906 - val_accuracy: 0.3921\n",
      "Epoch 3/25\n",
      "11047/11047 [==============================] - 427s 39ms/step - loss: 1.5764 - accuracy: 0.4048 - val_loss: 1.6714 - val_accuracy: 0.3599\n",
      "Epoch 4/25\n",
      "11047/11047 [==============================] - 427s 39ms/step - loss: 1.4584 - accuracy: 0.4487 - val_loss: 1.3240 - val_accuracy: 0.4873\n",
      "Epoch 5/25\n",
      "11047/11047 [==============================] - 426s 39ms/step - loss: 1.3662 - accuracy: 0.4775 - val_loss: 1.4885 - val_accuracy: 0.4421\n",
      "Epoch 6/25\n",
      "11047/11047 [==============================] - 428s 39ms/step - loss: 1.2760 - accuracy: 0.5023 - val_loss: 1.3522 - val_accuracy: 0.5206\n",
      "Epoch 7/25\n",
      "11047/11047 [==============================] - 427s 39ms/step - loss: 1.2025 - accuracy: 0.5301 - val_loss: 1.3031 - val_accuracy: 0.5022\n",
      "Epoch 8/25\n",
      "11047/11047 [==============================] - 424s 38ms/step - loss: 1.1131 - accuracy: 0.5664 - val_loss: 1.1512 - val_accuracy: 0.5529\n",
      "Epoch 9/25\n",
      "11047/11047 [==============================] - 428s 39ms/step - loss: 1.0564 - accuracy: 0.5897 - val_loss: 1.1311 - val_accuracy: 0.5724\n",
      "Epoch 10/25\n",
      "11047/11047 [==============================] - 432s 39ms/step - loss: 0.9841 - accuracy: 0.6120 - val_loss: 1.1226 - val_accuracy: 0.5898\n",
      "Epoch 11/25\n",
      "11047/11047 [==============================] - 432s 39ms/step - loss: 0.9250 - accuracy: 0.6328 - val_loss: 1.2213 - val_accuracy: 0.5478\n",
      "Epoch 12/25\n",
      "11047/11047 [==============================] - 433s 39ms/step - loss: 0.8470 - accuracy: 0.6650 - val_loss: 1.0088 - val_accuracy: 0.6253\n",
      "Epoch 13/25\n",
      "11047/11047 [==============================] - 432s 39ms/step - loss: 0.8047 - accuracy: 0.6888 - val_loss: 1.0912 - val_accuracy: 0.5883\n",
      "Epoch 14/25\n",
      "11047/11047 [==============================] - 432s 39ms/step - loss: 0.7558 - accuracy: 0.7028 - val_loss: 0.8888 - val_accuracy: 0.6720\n",
      "Epoch 15/25\n",
      "11047/11047 [==============================] - 429s 39ms/step - loss: 0.6881 - accuracy: 0.7329 - val_loss: 1.0030 - val_accuracy: 0.6506\n",
      "Epoch 16/25\n",
      "11047/11047 [==============================] - 430s 39ms/step - loss: 0.6246 - accuracy: 0.7575 - val_loss: 0.9532 - val_accuracy: 0.6557\n",
      "Epoch 17/25\n",
      "11047/11047 [==============================] - 431s 39ms/step - loss: 0.5880 - accuracy: 0.7721 - val_loss: 0.9854 - val_accuracy: 0.6542\n",
      "Epoch 18/25\n",
      "11047/11047 [==============================] - 432s 39ms/step - loss: 0.5091 - accuracy: 0.8072 - val_loss: 1.1063 - val_accuracy: 0.6506\n",
      "Epoch 19/25\n",
      "11047/11047 [==============================] - 433s 39ms/step - loss: 0.4696 - accuracy: 0.8194 - val_loss: 1.0047 - val_accuracy: 0.6980\n",
      "Epoch 20/25\n",
      "11047/11047 [==============================] - 428s 39ms/step - loss: 0.4068 - accuracy: 0.8472 - val_loss: 1.0889 - val_accuracy: 0.6789\n",
      "Epoch 21/25\n",
      "11047/11047 [==============================] - 430s 39ms/step - loss: 0.3760 - accuracy: 0.8591 - val_loss: 1.1090 - val_accuracy: 0.6546\n",
      "Epoch 22/25\n",
      "11047/11047 [==============================] - 428s 39ms/step - loss: 0.3462 - accuracy: 0.8727 - val_loss: 1.0833 - val_accuracy: 0.6933\n",
      "Epoch 23/25\n",
      "11047/11047 [==============================] - 430s 39ms/step - loss: 0.3189 - accuracy: 0.8829 - val_loss: 1.3488 - val_accuracy: 0.6608\n",
      "Epoch 24/25\n",
      "11047/11047 [==============================] - 428s 39ms/step - loss: 0.2642 - accuracy: 0.9019 - val_loss: 1.1235 - val_accuracy: 0.7256\n",
      "Epoch 25/25\n",
      "11047/11047 [==============================] - 428s 39ms/step - loss: 0.2448 - accuracy: 0.9106 - val_loss: 1.1224 - val_accuracy: 0.7161\n"
     ]
    }
   ],
   "source": [
    "epochs = 25\n",
    "lrate = 0.01\n",
    "decay = lrate/epochs\n",
    "adam = Adam(decay=decay)\n",
    "model.compile(loss='categorical_crossentropy', optimizer=adam, metrics=['accuracy'])\n",
    "print(model.summary())\n",
    "history = model.fit(X_train, y_train, validation_data=(X_test, y_test), epochs=epochs,verbose=1, batch_size=50)"
   ]
  },
  {
   "cell_type": "markdown",
   "metadata": {},
   "source": [
    "# Check score:"
   ]
  },
  {
   "cell_type": "code",
   "execution_count": 14,
   "metadata": {},
   "outputs": [
    {
     "name": "stdout",
     "output_type": "stream",
     "text": [
      "Accuracy: 71.61%\n",
      "Test loss: 1.1223759958055208\n",
      "Test accuracy: 0.7161477208137512\n"
     ]
    }
   ],
   "source": [
    "scores = model.evaluate(X_test, y_test, verbose=0)\n",
    "print(\"Accuracy: %.2f%%\" % (scores[1]*100))\n",
    "print('Test loss:', scores[0])\n",
    "print('Test accuracy:', scores[1])"
   ]
  },
  {
   "cell_type": "markdown",
   "metadata": {},
   "source": [
    "## Comments:\n",
    "\n",
    "This was the best model after testing with different variables in google colab."
   ]
  },
  {
   "cell_type": "markdown",
   "metadata": {},
   "source": [
    "# Confusion Matrix:"
   ]
  },
  {
   "cell_type": "code",
   "execution_count": 17,
   "metadata": {},
   "outputs": [
    {
     "name": "stdout",
     "output_type": "stream",
     "text": [
      "[1 0 4 ... 3 5 4]\n",
      "[1 0 4 ... 4 6 4]\n"
     ]
    },
    {
     "data": {
      "image/png": "[encoded data removed]",
      "text/plain": [
       "<Figure size 720x720 with 2 Axes>"
      ]
     },
     "metadata": {
      "needs_background": "light"
     },
     "output_type": "display_data"
    }
   ],
   "source": [
    "# With normalization:\n",
    "\n",
    "Y_pred = model.predict(X_test)\n",
    "\n",
    "Y_pred_classes = np.argmax(Y_pred,axis = 1) \n",
    "print(Y_pred_classes)\n",
    "\n",
    "Y_true = np.argmax(y_test,axis = 1)\n",
    "print(Y_true)\n",
    "\n",
    "cm = confusion_matrix(Y_true, Y_pred_classes)\n",
    "cm = cm.astype('float') / cm.sum(axis=1)[:, np.newaxis]\n",
    "\n",
    "# plot the confusion matrix\n",
    "f,ax = plt.subplots(figsize=(10, 10))\n",
    "sns.heatmap(cm, annot=True, linewidths=0.01,cmap=\"YlGnBu\",linecolor=\"gray\", fmt= '.1f',ax=ax)\n",
    "plt.xlabel(\"Predicted\")\n",
    "plt.ylabel(\"True\")\n",
    "plt.title(\"Confusion Matrix\")\n",
    "plt.show()"
   ]
  },
  {
   "cell_type": "code",
   "execution_count": 19,
   "metadata": {},
   "outputs": [
    {
     "name": "stdout",
     "output_type": "stream",
     "text": [
      "[1 0 4 ... 3 5 4]\n",
      "[1 0 4 ... 4 6 4]\n"
     ]
    },
    {
     "data": {
      "image/png": "[encoded data removed]",
      "text/plain": [
       "<Figure size 720x720 with 2 Axes>"
      ]
     },
     "metadata": {
      "needs_background": "light"
     },
     "output_type": "display_data"
    }
   ],
   "source": [
    "# Without normalization:\n",
    "\n",
    "Y_pred = model.predict(X_test)\n",
    "\n",
    "Y_pred_classes = np.argmax(Y_pred,axis = 1) \n",
    "print(Y_pred_classes)\n",
    "\n",
    "Y_true = np.argmax(y_test,axis = 1)\n",
    "print(Y_true)\n",
    "\n",
    "cm = confusion_matrix(Y_true, Y_pred_classes)\n",
    "cm = cm.astype('float') / cm.sum(axis=1)[:, np.newaxis]\n",
    "\n",
    "# plot the confusion matrix\n",
    "f,ax = plt.subplots(figsize=(10, 10))\n",
    "sns.heatmap(cm, annot=True,linecolor=\"gray\", fmt= '.1f',ax=ax)\n",
    "plt.xlabel(\"Predicted\")\n",
    "plt.ylabel(\"True\")\n",
    "plt.title(\"Confusion Matrix\")\n",
    "plt.show()"
   ]
  },
  {
   "cell_type": "markdown",
   "metadata": {},
   "source": [
    "# Model accuracy x Loss"
   ]
  },
  {
   "cell_type": "code",
   "execution_count": 21,
   "metadata": {},
   "outputs": [
    {
     "data": {
      "image/png": "[encoded data removed]",
      "text/plain": [
       "<Figure size 432x288 with 1 Axes>"
      ]
     },
     "metadata": {
      "needs_background": "light"
     },
     "output_type": "display_data"
    },
    {
     "data": {
      "image/png": "[encoded data removed]",
      "text/plain": [
       "<Figure size 432x288 with 1 Axes>"
      ]
     },
     "metadata": {
      "needs_background": "light"
     },
     "output_type": "display_data"
    }
   ],
   "source": [
    "%matplotlib inline\n",
    "\n",
    "# Plot training & validation accuracy values\n",
    "plt.plot(history.history['accuracy'])\n",
    "plt.plot(history.history['val_accuracy'])\n",
    "plt.title('Model accuracy')\n",
    "plt.ylabel('Accuracy')\n",
    "plt.xlabel('Epoch')\n",
    "plt.legend(['Train', 'Test'], loc='upper left')\n",
    "plt.show()\n",
    "\n",
    "# Plot training & validation loss values\n",
    "plt.plot(history.history['loss'])\n",
    "plt.plot(history.history['val_loss'])\n",
    "plt.title('Model loss')\n",
    "plt.ylabel('Loss')\n",
    "plt.xlabel('Epoch')\n",
    "plt.legend(['Train', 'Test'], loc='upper left')\n",
    "plt.show()"
   ]
  },
  {
   "cell_type": "markdown",
   "metadata": {},
   "source": [
    "# Save model:"
   ]
  },
  {
   "cell_type": "code",
   "execution_count": null,
   "metadata": {},
   "outputs": [],
   "source": [
    "moment=time.localtime()\n",
    "name='Model_{}_{}-{}-{}.h5'.format(model.history.history[\"val_accuracy\"][-1],moment[2],moment[3],moment[4])\n",
    "model.save(name)"
   ]
  },
  {
   "cell_type": "code",
   "execution_count": null,
   "metadata": {},
   "outputs": [],
   "source": [
    "import json\n",
    "\n",
    "model_json = model.to_json()\n",
    "with open(name+'.json', \"w\") as json_file:\n",
    "    json.dump(model_json, json_file)\n",
    "\n",
    "model.save_weights(name)"
   ]
  },
  {
   "cell_type": "markdown",
   "metadata": {},
   "source": [
    "All done!"
   ]
  }
 ],
 "metadata": {
  "kernelspec": {
   "display_name": "Python 3",
   "language": "python",
   "name": "python3"
  },
  "language_info": {
   "codemirror_mode": {
    "name": "ipython",
    "version": 3
   },
   "file_extension": ".py",
   "mimetype": "text/x-python",
   "name": "python",
   "nbconvert_exporter": "python",
   "pygments_lexer": "ipython3",
   "version": "3.7.5"
  }
 },
 "nbformat": 4,
 "nbformat_minor": 4
}
